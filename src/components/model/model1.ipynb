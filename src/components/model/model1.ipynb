{
 "cells": [
  {
   "cell_type": "code",
   "execution_count": null,
   "metadata": {},
   "outputs": [],
   "source": [
    "import pandas as pd\n",
    "import numpy as np\n",
    "from tkinter import *\n",
    "from sklearn.cluster import KMeans\n",
    "from sklearn.model_selection import train_test_split\n",
    "from sklearn.ensemble import RandomForestClassifier\n",
    "import matplotlib.pyplot as plt "
   ]
  },
  {
   "cell_type": "code",
   "execution_count": null,
   "metadata": {},
   "outputs": [],
   "source": [
    "data=pd.read_csv('data.csv')\n",
    "Breakfastdata=data['Breakfast']\n",
    "BreakfastdataNumpy=Breakfastdata.to_numpy()\n",
    "    \n",
    "Lunchdata=data['Lunch']\n",
    "LunchdataNumpy=Lunchdata.to_numpy()\n",
    "    \n",
    "Dinnerdata=data['Dinner']\n",
    "DinnerdataNumpy=Dinnerdata.to_numpy()\n",
    "Food_itemsdata=data['Food_items']"
   ]
  },
  {
   "cell_type": "code",
   "execution_count": null,
   "metadata": {},
   "outputs": [],
   "source": [
    "data['BMI_Range'] = data['BMI_Range'].map({'Healthy': 3, 'Overweight': 4, 'Underweight': 1, 'Normal': 2})"
   ]
  },
  {
   "cell_type": "code",
   "execution_count": null,
   "metadata": {},
   "outputs": [],
   "source": [
    "data['Veg/NonVeg'] = pd.to_numeric(data['Veg/NonVeg'], errors='coerce')\n",
    "\n",
    "# Check for NaN values in 'Veg/NonVeg' column\n",
    "nan_indices = data[data['Veg/NonVeg'].isna()].index\n",
    "\n",
    "# Fill NaN values with a default value, such as 0 for non-veg\n",
    "data['Veg/NonVeg'].fillna(0, inplace=True)\n",
    "\n",
    "data['Veg/NonVeg'] = data['Veg/NonVeg'].astype(int)\n",
    "\n",
    "\n",
    "data['Sugars'].fillna(data['Sugars'].mean(),inplace=True)\n",
    "data['BMI_Range'].fillna(data['BMI_Range'].mean(),inplace=True)"
   ]
  },
  {
   "cell_type": "code",
   "execution_count": null,
   "metadata": {},
   "outputs": [],
   "source": [
    "data.info()"
   ]
  },
  {
   "cell_type": "code",
   "execution_count": null,
   "metadata": {},
   "outputs": [],
   "source": [
    "# data.drop(['BMI_Range'],axis=1,inplace=True)"
   ]
  },
  {
   "cell_type": "code",
   "execution_count": null,
   "metadata": {},
   "outputs": [],
   "source": [
    "\n",
    "\n",
    "def separate_meal_items(data, BreakfastdataNumpy, LunchdataNumpy, DinnerdataNumpy, Food_itemsdata):\n",
    "    # Initialize lists to store separated items and their IDs for each meal\n",
    "    breakfastfoodseparated = []\n",
    "    Lunchfoodseparated = []\n",
    "    Dinnerfoodseparated = []\n",
    "    \n",
    "    breakfastfoodseparatedID = []\n",
    "    LunchfoodseparatedID = []\n",
    "    DinnerfoodseparatedID = []\n",
    "    \n",
    "    # Iterate through the data and separate items based on meal and Veg/NonVeg\n",
    "    for i in range(len(data)):\n",
    "        if BreakfastdataNumpy[i] == 1:\n",
    "            breakfastfoodseparated.append(Food_itemsdata[i])\n",
    "            breakfastfoodseparatedID.append(i)\n",
    "        if LunchdataNumpy[i] == 1:\n",
    "            Lunchfoodseparated.append(Food_itemsdata[i])\n",
    "            LunchfoodseparatedID.append(i)\n",
    "        if DinnerdataNumpy[i] == 1:\n",
    "            Dinnerfoodseparated.append(Food_itemsdata[i])\n",
    "            DinnerfoodseparatedID.append(i)\n",
    "    \n",
    "    # Retrieve rows by loc method for each meal\n",
    "    LunchfoodseparatedIDdata = data.iloc[LunchfoodseparatedID].T.iloc[[0] + list(np.arange(4, 15))].T.to_numpy()\n",
    "    breakfastfoodseparatedIDdata = data.iloc[breakfastfoodseparatedID].T.iloc[[0] + list(np.arange(4, 15))].T.to_numpy()\n",
    "    DinnerfoodseparatedIDdata = data.iloc[DinnerfoodseparatedID].T.iloc[[0] + list(np.arange(4, 15))].T.to_numpy()\n",
    "\n",
    "    return breakfastfoodseparatedIDdata, LunchfoodseparatedIDdata, DinnerfoodseparatedIDdata\n",
    "\n",
    " \n",
    "\n"
   ]
  },
  {
   "cell_type": "code",
   "execution_count": null,
   "metadata": {},
   "outputs": [],
   "source": [
    "breakfastfoodseparatedIDdata, LunchfoodseparatedIDdata, DinnerfoodseparatedIDdata = separate_meal_items(data, BreakfastdataNumpy, LunchdataNumpy, DinnerdataNumpy, Food_itemsdata)"
   ]
  },
  {
   "cell_type": "code",
   "execution_count": null,
   "metadata": {},
   "outputs": [],
   "source": [
    "breakfastfoodseparatedIDdata "
   ]
  },
  {
   "cell_type": "code",
   "execution_count": null,
   "metadata": {},
   "outputs": [],
   "source": [
    "def kmeans_clustering(data, num_clusters):\n",
    "    # Extract the data for clustering\n",
    "    Datacalorie = data[1:,1:len(data)]\n",
    "    \n",
    "    # Convert data to numpy array\n",
    "    X = np.array(Datacalorie)\n",
    "    \n",
    "    # Perform K-means clustering\n",
    "    kmeans = KMeans(n_clusters=3, random_state=0).fit(X)\n",
    "    \n",
    "    # Get the cluster labels\n",
    "    labels = kmeans.labels_\n",
    "    \n",
    "    return labels\n"
   ]
  },
  {
   "cell_type": "code",
   "execution_count": null,
   "metadata": {},
   "outputs": [],
   "source": [
    "breakfast_labels = kmeans_clustering(breakfastfoodseparatedIDdata, 3)\n",
    "lunch_labels= kmeans_clustering(LunchfoodseparatedIDdata, 3)\n",
    "dinner_labels= kmeans_clustering(DinnerfoodseparatedIDdata, 3)\n"
   ]
  },
  {
   "cell_type": "code",
   "execution_count": null,
   "metadata": {},
   "outputs": [],
   "source": [
    "breakfast_labels"
   ]
  },
  {
   "cell_type": "markdown",
   "metadata": {},
   "source": [
    "## Recommendation without ml\n"
   ]
  },
  {
   "cell_type": "code",
   "execution_count": null,
   "metadata": {},
   "outputs": [],
   "source": [
    "def calculate_bmr(weight, height, age, gender):\n",
    "    if gender == 'M':\n",
    "        bmr = 10 * weight + 6.25 * height - 5 * age + 5\n",
    "    elif gender == 'F':\n",
    "        bmr = 10 * weight + 6.25 * height - 5 * age - 161\n",
    "    return bmr\n",
    "\n",
    "def user_bmr():\n",
    "    # Get user input\n",
    "    weight = float(input(\"Enter your weight in kg: \"))\n",
    "    height = float(input(\"Enter your height in cm: \"))\n",
    "    age = int(input(\"Enter your age in years: \"))\n",
    "    gender = input(\"Enter your gender (M/F): \")\n",
    "\n",
    "    # Calculate BMR using the provided inputs\n",
    "    bmr = calculate_bmr(weight, height, age, gender)\n",
    "\n",
    "    return bmr\n",
    "\n",
    "\n",
    "bmr_result = user_bmr()\n",
    "print(\"Your Basal Metabolic Rate (BMR) is:\", bmr_result)\n"
   ]
  },
  {
   "cell_type": "code",
   "execution_count": null,
   "metadata": {},
   "outputs": [],
   "source": [
    "def calculate_calorie_requirement(bmr, activity_level):\n",
    "    activity_factors = {'sedentary': 1.2, 'lightly_active': 1.375, 'moderately_active': 1.55, 'very_active': 1.725, 'extra_active': 1.9}\n",
    "    activity_factor = activity_factors.get(activity_level, 1.2)  \n",
    "    calorie_requirement = bmr * activity_factor\n",
    "    return calorie_requirement\n",
    "\n",
    "bmr = float(input(\"Enter your Basal Metabolic Rate (BMR): \"))\n",
    "activity_level = input(\"Enter your activity level (sedentary, lightly_active, moderately_active, very_active, extra_active): \")\n",
    "calorie_requirement = calculate_calorie_requirement(bmr, activity_level)\n",
    "calorie_requirement\n",
    "\n"
   ]
  },
  {
   "cell_type": "code",
   "execution_count": null,
   "metadata": {},
   "outputs": [],
   "source": [
    "def recommend_all_foods(data, meal, veg_nonveg):\n",
    "    if veg_nonveg.lower() not in ['v', 'nv']:\n",
    "        raise ValueError(\"Invalid value for vegetarian/non-vegetarian. Use 'V' for vegetarian and 'NV' for non-vegetarian.\")\n",
    "\n",
    "    # Convert 'V' or 'NV' to 1 or 0, respectively\n",
    "    veg_nonveg_code = 1 if veg_nonveg.lower() == 'v' else 0\n",
    "\n",
    "    # Filter foods based on meal type and vegetarian/non-vegetarian preference\n",
    "    foods_df = data[(data[meal] == 1) & (data['Veg/NonVeg'] == veg_nonveg_code)]\n",
    "\n",
    "    # Convert DataFrame to a dictionary with separate entries for each food item\n",
    "    foods_dict = {}\n",
    "    for index, row in foods_df.iterrows():\n",
    "        food_item = {\n",
    "            'Meal': meal,\n",
    "            'Veg/NonVeg': 'Vegetarian' if veg_nonveg_code == 1 else 'Non-Vegetarian',\n",
    "            'Calories': row['Calories'],\n",
    "            'Proteins': row['Proteins'],\n",
    "            'Fats': row['Fats'],\n",
    "            'Carbohydrates': row['Carbohydrates'],\n",
    "            'Sugars': row['Sugars'],\n",
    "            'VitaminD': row['VitaminD'],\n",
    "            'Iron': row['Iron'],\n",
    "            'Calcium': row['Calcium'],\n",
    "            'Potassium': row['Potassium'],\n",
    "\n",
    "            \n",
    "        }\n",
    "        foods_dict[row['Food_items']] = food_item\n",
    "\n",
    "    return foods_dict\n",
    "\n",
    "meal = input(\"Enter the meal type (Breakfast, Lunch, Dinner): \")\n",
    "veg_nonveg = input(\"Are you vegetarian (V) or non-vegetarian (NV): \")\n",
    "\n",
    "recommended_foods_dict = recommend_all_foods(data, meal, veg_nonveg)\n",
    "\n",
    "print(\"Recommended Foods:\")\n",
    "for food_name, food_info in recommended_foods_dict.items():\n",
    "    print(food_name)\n",
    "    print(food_info)\n"
   ]
  },
  {
   "cell_type": "code",
   "execution_count": null,
   "metadata": {},
   "outputs": [],
   "source": [
    "# Define the function to recommend foods based on the goal\n",
    "def recommend_foods_for_goal(foods_dict, goal):\n",
    "    if goal.lower() not in ['gain', 'loss', 'maintain']:\n",
    "        raise ValueError(\"Invalid goal specified. Use 'gain', 'loss', or 'maintain'.\")\n",
    "\n",
    "    recommended_foods_calories = {}\n",
    "    for food_name, food_info in foods_dict.items():\n",
    "        calories = food_info['Calories']\n",
    "        Proteins = food_info['Proteins']\n",
    "        Fats = food_info['Fats']\n",
    "        Carbs = food_info['Carbohydrates']\n",
    "        if goal.lower() == 'gain':\n",
    "            if (calories > 300 or\n",
    "            Proteins > 25 or\n",
    "            Fats > 20 or\n",
    "            Carbs > 50) :\n",
    "                recommended_foods_calories[food_name] = calories\n",
    "        elif goal.lower() == 'loss':\n",
    "            if (calories < 300 or\n",
    "            Proteins < 20 or\n",
    "            Fats < 10 or\n",
    "            Carbs < 50):\n",
    "                recommended_foods_calories[food_name] = calories\n",
    "        else:  # For 'maintain'\n",
    "            if (200 <= calories <= 400 or\n",
    "            15 <= Proteins <= 25 or\n",
    "            10 <= Fats <= 20 or\n",
    "            40 <= Carbs <= 60):\n",
    "                recommended_foods_calories[food_name] = calories\n",
    "\n",
    "    return recommended_foods_calories\n",
    "\n",
    "meal = input(\"Enter the meal type (Breakfast, Lunch, Dinner): \")\n",
    "veg_nonveg = input(\"Are you vegetarian (V) or non-vegetarian (NV): \")\n",
    "\n",
    "recommended_foods_dict = recommend_all_foods(data, meal, veg_nonveg)\n",
    "# print(\"Recommended Foods:\")\n",
    "# for food_name, food_info in recommended_foods_dict.items():\n",
    "#     print(food_name)\n",
    "#     print(food_info)\n",
    "\n",
    "\n",
    "goal = input(\"Enter your weight management goal (gain, loss, maintain): \")\n",
    "\n",
    "\n",
    "recommended_foods_goal_calories = recommend_foods_for_goal(recommended_foods_dict, goal)\n",
    "\n",
    "print(\"Recommended Foods for Goal with Calories:\")\n",
    "print(recommended_foods_goal_calories)\n"
   ]
  },
  {
   "cell_type": "code",
   "execution_count": null,
   "metadata": {},
   "outputs": [],
   "source": [
    "def choose_food_items(data, calorie_requirement):\n",
    "    chosen_items = []\n",
    "    total_calories = 0\n",
    "    \n",
    "    while total_calories < calorie_requirement:\n",
    "        print(\"Remaining Calorie Requirement:\", calorie_requirement - total_calories)\n",
    "        print(\"Choose from the following food items:\")\n",
    "        for food_name, food_info in data.items():\n",
    "            print(f\"{food_name}: Calories - {food_info['Calories']}\")\n",
    "        \n",
    "        choice = input(\"Enter the name of the food item you want to add (or 'done' to finish): \")\n",
    "        \n",
    "        if choice.lower() == 'done':\n",
    "\n",
    "\n",
    "            break\n",
    "        \n",
    "        if choice in data:\n",
    "            chosen_items.append(choice)\n",
    "            total_calories += data[choice]['Calories']\n",
    "        else:\n",
    "            print(\"Invalid food item. Please choose from the list.\")\n",
    "        \n",
    "        print(\"Selected Food Items:\", chosen_items)\n",
    "    \n",
    "    return chosen_items\n",
    "\n",
    "calorie_requirement = int(input(\"Enter your calorie requirement: \"))\n",
    "chosen_food_items = choose_food_items(recommended_foods_dict, calorie_requirement)\n",
    "print(\"Chosen Food Items:\", chosen_food_items)\n"
   ]
  }
 ],
 "metadata": {
  "kernelspec": {
   "display_name": "Python 3",
   "language": "python",
   "name": "python3"
  },
  "language_info": {
   "codemirror_mode": {
    "name": "ipython",
    "version": 3
   },
   "file_extension": ".py",
   "mimetype": "text/x-python",
   "name": "python",
   "nbconvert_exporter": "python",
   "pygments_lexer": "ipython3",
   "version": "3.11.5"
  }
 },
 "nbformat": 4,
 "nbformat_minor": 2
}
